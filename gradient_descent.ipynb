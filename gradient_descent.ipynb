{
 "cells": [
  {
   "cell_type": "code",
   "execution_count": 5,
   "metadata": {},
   "outputs": [],
   "source": [
    "import pandas as pd\n",
    "import random\n",
    "import numpy as np\n",
    "import matplotlib.pyplot as plt"
   ]
  },
  {
   "cell_type": "code",
   "execution_count": 7,
   "metadata": {},
   "outputs": [
    {
     "data": {
      "image/png": "[encoded data removed]",
      "text/plain": [
       "<Figure size 432x288 with 1 Axes>"
      ]
     },
     "metadata": {
      "needs_background": "light"
     },
     "output_type": "display_data"
    }
   ],
   "source": [
    "#bias = w0\n",
    "def gen_data(numPoints, bias, variance):\n",
    "    x=np.zeros(shape=(numPoints,2))\n",
    "    y=np.zeros(shape=numPoints)\n",
    "    \n",
    "    for i in range (0,numPoints):\n",
    "        x[i][0]=1\n",
    "        x[i][1]=i\n",
    "        \n",
    "        y[i] = (i+bias) + random.uniform(0,1)* variance\n",
    "    \n",
    "    return x,y\n",
    "\n",
    "x,y = gen_data(100,25,10)\n",
    "plt.plot(x[:,1]+1,y,\"ro\")\n",
    "plt.show()"
   ]
  },
  {
   "cell_type": "code",
   "execution_count": 8,
   "metadata": {},
   "outputs": [],
   "source": [
    "def gradient_descent(x,y,theta, alpha,m,numIterations):\n",
    "    xTrans=x.transpose()\n",
    "    theta_list=[]\n",
    "    cost_list=[]\n",
    "    \n",
    "    for i in range(0,numIterations):\n",
    "        hypothesis = np.dot(x,theta)\n",
    "        loss = hypothesis - y\n",
    "        \n",
    "        cost = np.sum(loss ** 2 )/(2*m)\n",
    "        gradient = np.dot(xTrans,loss)/m\n",
    "        print(gradient.shape)\n",
    "        \n",
    "        theta = theta - alpha*gradient\n",
    "        if i%250 == 0 :\n",
    "            theta_list.append(data)\n",
    "            cost_list.append(cost)\n",
    "            \n",
    "        return theta,np.array(theta_list),cost_list\n",
    "\n",
    "m,n = np.shape(x)\n",
    "numIterations = 5000\n",
    "alpha = 0.0005\n",
    "theta = np.ones(n)\n",
    "\n",
    "        \n",
    "        \n",
    "        \n",
    "        \n",
    "        \n",
    "    "
   ]
  }
 ],
 "metadata": {
  "kernelspec": {
   "display_name": "Python 3",
   "language": "python",
   "name": "python3"
  },
  "language_info": {
   "codemirror_mode": {
    "name": "ipython",
    "version": 3
   },
   "file_extension": ".py",
   "mimetype": "text/x-python",
   "name": "python",
   "nbconvert_exporter": "python",
   "pygments_lexer": "ipython3",
   "version": "3.7.4"
  }
 },
 "nbformat": 4,
 "nbformat_minor": 2
}
